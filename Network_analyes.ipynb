{
  "nbformat": 4,
  "nbformat_minor": 0,
  "metadata": {
    "colab": {
      "provenance": [],
      "authorship_tag": "ABX9TyOMWtJlrXHSwY3ehkJEDRra",
      "include_colab_link": true
    },
    "kernelspec": {
      "name": "python3",
      "display_name": "Python 3"
    },
    "language_info": {
      "name": "python"
    }
  },
  "cells": [
    {
      "cell_type": "markdown",
      "metadata": {
        "id": "view-in-github",
        "colab_type": "text"
      },
      "source": [
        "<a href=\"https://colab.research.google.com/github/Hamzzaal/new1/blob/main/Network_analyes.ipynb\" target=\"_parent\"><img src=\"https://colab.research.google.com/assets/colab-badge.svg\" alt=\"Open In Colab\"/></a>"
      ]
    },
    {
      "cell_type": "code",
      "execution_count": null,
      "metadata": {
        "colab": {
          "base_uri": "https://localhost:8080/",
          "height": 228
        },
        "id": "fvX6zkvxEmnb",
        "outputId": "014f70d2-39aa-4e46-cccc-4d8646671ae4"
      },
      "outputs": [
        {
          "output_type": "error",
          "ename": "NameError",
          "evalue": "name 'packet_size' is not defined",
          "traceback": [
            "\u001b[0;31m---------------------------------------------------------------------------\u001b[0m",
            "\u001b[0;31mNameError\u001b[0m                                 Traceback (most recent call last)",
            "\u001b[0;32m<ipython-input-1-a6a10ef51b33>\u001b[0m in \u001b[0;36m<cell line: 9>\u001b[0;34m()\u001b[0m\n\u001b[1;32m      7\u001b[0m \u001b[0;31m# 1. إنشاء بيانات صناعية للتدريب والاختبار\u001b[0m\u001b[0;34m\u001b[0m\u001b[0;34m\u001b[0m\u001b[0m\n\u001b[1;32m      8\u001b[0m data = {\n\u001b[0;32m----> 9\u001b[0;31m      \u001b[0mpacket_size\u001b[0m \u001b[0;34m:\u001b[0m \u001b[0mnp\u001b[0m\u001b[0;34m.\u001b[0m\u001b[0mrandom\u001b[0m\u001b[0;34m.\u001b[0m\u001b[0mrandint\u001b[0m\u001b[0;34m(\u001b[0m\u001b[0;36m50\u001b[0m\u001b[0;34m,\u001b[0m \u001b[0;36m1500\u001b[0m\u001b[0;34m,\u001b[0m \u001b[0;36m1000\u001b[0m\u001b[0;34m)\u001b[0m\u001b[0;34m,\u001b[0m  \u001b[0;31m# حجم الحزم العشوائي بين 50 و 1500 بايت\u001b[0m\u001b[0;34m\u001b[0m\u001b[0;34m\u001b[0m\u001b[0m\n\u001b[0m\u001b[1;32m     10\u001b[0m      \u001b[0mtimestamp\u001b[0m \u001b[0;34m:\u001b[0m \u001b[0mpd\u001b[0m\u001b[0;34m.\u001b[0m\u001b[0mdate_range\u001b[0m\u001b[0;34m(\u001b[0m\u001b[0mstart\u001b[0m\u001b[0;34m=\u001b[0m \u001b[0;36m1\u001b[0m\u001b[0;34m/\u001b[0m\u001b[0;36m1\u001b[0m\u001b[0;34m/\u001b[0m\u001b[0;36m2023\u001b[0m \u001b[0;34m,\u001b[0m \u001b[0mperiods\u001b[0m\u001b[0;34m=\u001b[0m\u001b[0;36m1000\u001b[0m\u001b[0;34m,\u001b[0m \u001b[0mfreq\u001b[0m\u001b[0;34m=\u001b[0m \u001b[0mS\u001b[0m \u001b[0;34m)\u001b[0m\u001b[0;34m,\u001b[0m  \u001b[0;31m# توقيت الحزم\u001b[0m\u001b[0;34m\u001b[0m\u001b[0;34m\u001b[0m\u001b[0m\n\u001b[1;32m     11\u001b[0m      \u001b[0msrc_ip\u001b[0m \u001b[0;34m:\u001b[0m \u001b[0mnp\u001b[0m\u001b[0;34m.\u001b[0m\u001b[0mrandom\u001b[0m\u001b[0;34m.\u001b[0m\u001b[0mchoice\u001b[0m\u001b[0;34m(\u001b[0m\u001b[0;34m[\u001b[0m\u001b[0;34m'192.168.1.1 '\u001b[0m\u001b[0;34m,\u001b[0m  \u001b[0;34m'192.168.1.2'\u001b[0m \u001b[0;34m,\u001b[0m  \u001b[0;34m'192.168.1.3'\u001b[0m \u001b[0;34m]\u001b[0m\u001b[0;34m,\u001b[0m \u001b[0;36m1000\u001b[0m\u001b[0;34m)\u001b[0m\u001b[0;34m,\u001b[0m  \u001b[0;31m# عناوين IP المصدر\u001b[0m\u001b[0;34m\u001b[0m\u001b[0;34m\u001b[0m\u001b[0m\n",
            "\u001b[0;31mNameError\u001b[0m: name 'packet_size' is not defined"
          ]
        }
      ],
      "source": [
        "\n",
        "\n",
        "\n",
        "import pandas as pd\n",
        "import numpy as np\n",
        "from sklearn.ensemble import RandomForestClassifier\n",
        "from sklearn.model_selection import train_test_split\n",
        "from sklearn.metrics import classification_report, accuracy_score\n",
        "\n",
        "# 1. إنشاء بيانات صناعية للتدريب والاختبار\n",
        "data = {\n",
        "     packet_size : np.random.randint(50, 1500, 1000),  # حجم الحزم العشوائي بين 50 و 1500 بايت\n",
        "     timestamp : pd.date_range(start= 1/1/2023 , periods=1000, freq= S ),  # توقيت الحزم\n",
        "     src_ip : np.random.choice(['192.168.1.1 ',  '192.168.1.2' ,  '192.168.1.3' ], 1000),  # عناوين IP المصدر\n",
        "     dst_ip : np.random.choice([ '192.168.1.4' ,  '192.168.1.5' ,  '192.168.1.6' ], 1000),  # عناوين IP الوجهة\n",
        "     label : np.random.choice([0, 1], 1000)  # 0 - حركة مرور عادية، 1 - هجوم MitM\n",
        "}\n",
        "\n",
        "df = pd.DataFrame(data)\n",
        "\n",
        "# 2. تحويل عناوين IP إلى أرقام\n",
        "df[ src_ip ] = df[ src_ip ].astype( category ).cat.codes\n",
        "df[ dst_ip ] = df[ dst_ip ].astype( category ).cat.codes\n",
        "\n",
        "# 3. فصل الميزات (X) عن الأهداف (y)\n",
        "X = df[[ packet_size ,  src_ip ,  dst_ip ]]\n",
        "y = df[ label ]\n",
        "\n",
        "# 4. تقسيم البيانات إلى مجموعة تدريب (80%) ومجموعة اختبار (20%)\n",
        "X_train, X_test, y_train, y_test = train_test_split(X, y, test_size=0.2, random_state=42)\n",
        "\n",
        "# 5. تدريب نموذج Random Forest على مجموعة التدريب\n",
        "model = RandomForestClassifier(n_estimators=100, random_state=42)\n",
        "model.fit(X_train, y_train)\n",
        "\n",
        "# 6. إجراء التنبؤات على مجموعة الاختبار وتقييم الأداء\n",
        "y_pred = model.predict(X_test)\n",
        "print(\"Accuracy:\", accuracy_score(y_test, y_pred))\n",
        "print(\"Classification Report:\\n\", classification_report(y_test, y_pred))\n",
        "\n",
        "# 7. استخدام النموذج للكشف عن هجمات MitM في البيانات الجديدة\n",
        "new_data = pd.DataFrame({\n",
        "     packet_size : [1200],  # حجم الحزمة الجديدة\n",
        "     src_ip : [0],  # رمز IP المصدر (بعد تحويله)\n",
        "     dst_ip : [1]   # رمز IP الوجهة (بعد تحويله)\n",
        "})\n",
        "\n",
        "prediction = model.predict(new_data)\n",
        "print(\"Prediction:\", \"MitM Attack\" if prediction[0] == 1 else \"Normal Traffic\")"
      ]
    },
    {
      "cell_type": "code",
      "source": [
        "import pandas as pd\n",
        "import numpy as np\n",
        "from sklearn.ensemble import RandomForestClassifier\n",
        "from sklearn.model_selection import train_test_split\n",
        "from sklearn.metrics import classification_report, accuracy_score\n",
        "\n",
        "# 1. إنشاء بيانات صناعية للتدريب والاختبار\n",
        "# Define the keys as strings\n",
        "packet_size = 'packet_size'\n",
        "timestamp = 'timestamp'\n",
        "src_ip = 'src_ip'\n",
        "dst_ip = 'dst_ip'\n",
        "label = 'label'\n",
        "\n",
        "data = {\n",
        "    packet_size: np.random.randint(50, 1500, 1000),  # حجم الحزم العشوائي بين 50 و 1500 بايت\n",
        "    timestamp: pd.date_range(start='1/1/2023', periods=1000, freq='S'),  # توقيت الحزم, note: 'S' needs to be a string\n",
        "    src_ip: np.random.choice(['192.168.1.1 ', '192.168.1.2', '192.168.1.3'], 1000),  # عناوين IP المصدر\n",
        "    dst_ip: np.random.choice(['192.168.1.4', '192.168.1.5', '192.168.1.6'], 1000),  # عناوين IP الوجهة\n",
        "    label: np.random.choice([0, 1], 1000)  # 0 - حركة مرور عادية، 1 - هجوم MitM\n",
        "}\n",
        "\n",
        "df = pd.DataFrame(data)\n",
        "\n",
        "# 2. تحويل عناوين IP إلى أرقام\n",
        "df[src_ip] = df[src_ip].astype('category').cat.codes\n",
        "df[dst_ip] = df[dst_ip].astype('category').cat.codes\n",
        "\n",
        "# 3. فصل الميزات (X) عن الأهداف (y)\n",
        "X = df[[packet_size, src_ip, dst_ip]]\n",
        "y = df[label]\n",
        "\n",
        "# 4. تقسيم البيانات إلى مجموعة تدريب (80%) ومجموعة اختبار (20%)\n",
        "X_train, X_test, y_train, y_test = train_test_split(X, y, test_size=0.2, random_state=42)\n",
        "\n",
        "# 5. تدريب نموذج Random Forest على مجموعة التدريب\n",
        "model = RandomForestClassifier(n_estimators=100, random_state=42)\n",
        "model.fit(X_train, y_train)\n",
        "\n",
        "# 6. إجراء التنبؤات على مجموعة الاختبار وتقييم الأداء\n",
        "y_pred = model.predict(X_test)\n",
        "print(\"Accuracy:\", accuracy_score(y_test, y_pred))\n",
        "print(\"Classification Report:\\n\", classification_report(y_test, y_pred))\n",
        "\n",
        "# 7. استخدام النموذج للكشف عن هجمات MitM في البيانات الجديدة\n",
        "new_data = pd.DataFrame({\n",
        "    packet_size: [1200],  # حجم الحزمة الجديدة\n",
        "    src_ip: [0],  # رمز IP المصدر (بعد تحويله)\n",
        "    dst_ip: [1]  # رمز IP الوجهة (بعد تحويله)\n",
        "})\n",
        "\n",
        "prediction = model.predict(new_data)\n",
        "print(\"Prediction:\", \"MitM Attack\" if prediction[0] == 1 else \"Normal Traffic\")"
      ],
      "metadata": {
        "colab": {
          "base_uri": "https://localhost:8080/"
        },
        "id": "PhLFTDlZKbNj",
        "outputId": "ad0f3d92-99c4-4f8f-8d07-5a8e909c8710"
      },
      "execution_count": null,
      "outputs": [
        {
          "output_type": "stream",
          "name": "stdout",
          "text": [
            "Accuracy: 0.44\n",
            "Classification Report:\n",
            "               precision    recall  f1-score   support\n",
            "\n",
            "           0       0.48      0.44      0.46       108\n",
            "           1       0.40      0.43      0.42        92\n",
            "\n",
            "    accuracy                           0.44       200\n",
            "   macro avg       0.44      0.44      0.44       200\n",
            "weighted avg       0.44      0.44      0.44       200\n",
            "\n",
            "Prediction: MitM Attack\n"
          ]
        }
      ]
    },
    {
      "cell_type": "code",
      "source": [
        "import pandas as pd\n",
        "import numpy as np\n",
        "from sklearn.ensemble import RandomForestClassifier\n",
        "from sklearn.model_selection import train_test_split, GridSearchCV\n",
        "from sklearn.metrics import classification_report, accuracy_score, precision_score, recall_score, f1_score\n",
        "\n",
        "# 1. إنشاء بيانات صناعية للتدريب والاختبار\n",
        "packet_size = 'packet_size'\n",
        "timestamp = 'timestamp'\n",
        "src_ip = 'src_ip'\n",
        "dst_ip = 'dst_ip'\n",
        "protocol = 'protocol'  # إضافة ميزة جديدة: نوع البروتوكول\n",
        "label = 'label'\n",
        "\n",
        "data = {\n",
        "    packet_size: np.random.randint(50, 1500, 1000),\n",
        "    timestamp: pd.date_range(start='1/1/2023', periods=1000, freq='S'),\n",
        "    src_ip: np.random.choice(['192.168.1.1', '192.168.1.2', '192.168.1.3'], 1000),\n",
        "    dst_ip: np.random.choice(['192.168.1.4', '192.168.1.5', '192.168.1.6'], 1000),\n",
        "    protocol: np.random.choice(['TCP', 'UDP'], 1000),  # قيم عشوائية لنوع البروتوكول\n",
        "    label: np.random.choice([0, 1], 1000)\n",
        "}\n",
        "\n",
        "df = pd.DataFrame(data)\n",
        "\n",
        "# 2. تحويل عناوين IP ونوع البروتوكول إلى one-hot encoding\n",
        "df = pd.get_dummies(df, columns=[src_ip, dst_ip, protocol])\n",
        "\n",
        "# 3. فصل الميزات (X) عن الأهداف (y)\n",
        "# Drop the timestamp column as it is not suitable for the model\n",
        "X = df.drop([label, timestamp], axis=1)\n",
        "y = df[label]\n",
        "\n",
        "# 4. تقسيم البيانات إلى مجموعة تدريب (80%) ومجموعة اختبار (20%)\n",
        "X_train, X_test, y_train, y_test = train_test_split(X, y, test_size=0.2, random_state=42)\n",
        "\n",
        "# 5. ضبط Hyperparameters باستخدام GridSearchCV\n",
        "param_grid = {\n",
        "    'n_estimators': [50, 100, 200],\n",
        "    'max_depth': [None, 5, 10],\n",
        "    'min_samples_split': [2, 5, 10]\n",
        "}\n",
        "\n",
        "grid_search = GridSearchCV(RandomForestClassifier(random_state=42), param_grid, cv=5)\n",
        "grid_search.fit(X_train, y_train)\n",
        "\n",
        "# 6. تدريب النموذج باستخدام أفضل hyperparameters\n",
        "best_model = grid_search.best_estimator_\n",
        "best_model.fit(X_train, y_train)\n",
        "\n",
        "# 7. إجراء التنبؤات على مجموعة الاختبار وتقييم الأداء\n",
        "y_pred = best_model.predict(X_test)\n",
        "print(\"Accuracy:\", accuracy_score(y_test, y_pred))\n",
        "print(\"Precision:\", precision_score(y_test, y_pred))\n",
        "print(\"Recall:\", recall_score(y_test, y_pred))\n",
        "print(\"F1-score:\", f1_score(y_test, y_pred))\n",
        "print(\"Classification Report:\\n\", classification_report(y_test, y_pred))\n",
        "\n",
        "# 8. استخدام النموذج للكشف عن هجمات MitM في البيانات الجديدة\n",
        "new_data = pd.DataFrame({\n",
        "    packet_size: [1200],\n",
        "    # ... (إضافة قيم للميزات الأخرى)\n",
        "})\n",
        "\n",
        "# تحويل عناوين IP ونوع البروتوكول في البيانات الجديدة إلى one-hot encoding\n",
        "\n",
        "# 8. استخدام النموذج للكشف عن هجمات MitM في البيانات الجديدة\n",
        "new_data = pd.DataFrame({\n",
        "    packet_size: [1200],\n",
        "    # ... (إضافة قيم للميزات الأخرى)\n",
        "})\n",
        "\n",
        "# تحويل عناوين IP ونوع البروتوكول في البيانات الجديدة إلى one-hot encoding\n",
        "new_data = pd.get_dummies(new_data, columns=[src_ip, dst_ip, protocol])\n",
        "\n",
        "# التأكد من أن new_data تحتوي على نفس الأعمدة مثل X_train\n",
        "new_data = new_data.reindex(columns=X_train.columns, fill_value=0)\n",
        "\n",
        "prediction = best_model.predict(new_data)\n",
        "print(\"Prediction:\", \"MitM Attack\" if prediction[0] == 1 else \"Normal Traffic\")"
      ],
      "metadata": {
        "colab": {
          "base_uri": "https://localhost:8080/",
          "height": 391
        },
        "id": "_cAcWz1fXaIk",
        "outputId": "f85d6609-e5bf-429f-b99a-a829e3e474e6"
      },
      "execution_count": null,
      "outputs": [
        {
          "output_type": "error",
          "ename": "KeyError",
          "evalue": "\"None of [Index(['src_ip', 'dst_ip', 'protocol'], dtype='object')] are in the [columns]\"",
          "traceback": [
            "\u001b[0;31m---------------------------------------------------------------------------\u001b[0m",
            "\u001b[0;31mKeyError\u001b[0m                                  Traceback (most recent call last)",
            "\u001b[0;32m<ipython-input-5-5f11f0f39222>\u001b[0m in \u001b[0;36m<cell line: 74>\u001b[0;34m()\u001b[0m\n\u001b[1;32m     72\u001b[0m \u001b[0;34m\u001b[0m\u001b[0m\n\u001b[1;32m     73\u001b[0m \u001b[0;31m# تحويل عناوين IP ونوع البروتوكول في البيانات الجديدة إلى one-hot encoding\u001b[0m\u001b[0;34m\u001b[0m\u001b[0;34m\u001b[0m\u001b[0m\n\u001b[0;32m---> 74\u001b[0;31m \u001b[0mnew_data\u001b[0m \u001b[0;34m=\u001b[0m \u001b[0mpd\u001b[0m\u001b[0;34m.\u001b[0m\u001b[0mget_dummies\u001b[0m\u001b[0;34m(\u001b[0m\u001b[0mnew_data\u001b[0m\u001b[0;34m,\u001b[0m \u001b[0mcolumns\u001b[0m\u001b[0;34m=\u001b[0m\u001b[0;34m[\u001b[0m\u001b[0msrc_ip\u001b[0m\u001b[0;34m,\u001b[0m \u001b[0mdst_ip\u001b[0m\u001b[0;34m,\u001b[0m \u001b[0mprotocol\u001b[0m\u001b[0;34m]\u001b[0m\u001b[0;34m)\u001b[0m\u001b[0;34m\u001b[0m\u001b[0;34m\u001b[0m\u001b[0m\n\u001b[0m\u001b[1;32m     75\u001b[0m \u001b[0;34m\u001b[0m\u001b[0m\n\u001b[1;32m     76\u001b[0m \u001b[0;31m# التأكد من أن new_data تحتوي على نفس الأعمدة مثل X_train\u001b[0m\u001b[0;34m\u001b[0m\u001b[0;34m\u001b[0m\u001b[0m\n",
            "\u001b[0;32m/usr/local/lib/python3.10/dist-packages/pandas/core/reshape/encoding.py\u001b[0m in \u001b[0;36mget_dummies\u001b[0;34m(data, prefix, prefix_sep, dummy_na, columns, sparse, drop_first, dtype)\u001b[0m\n\u001b[1;32m    162\u001b[0m             \u001b[0;32mraise\u001b[0m \u001b[0mTypeError\u001b[0m\u001b[0;34m(\u001b[0m\u001b[0;34m\"Input must be a list-like for parameter `columns`\"\u001b[0m\u001b[0;34m)\u001b[0m\u001b[0;34m\u001b[0m\u001b[0;34m\u001b[0m\u001b[0m\n\u001b[1;32m    163\u001b[0m         \u001b[0;32melse\u001b[0m\u001b[0;34m:\u001b[0m\u001b[0;34m\u001b[0m\u001b[0;34m\u001b[0m\u001b[0m\n\u001b[0;32m--> 164\u001b[0;31m             \u001b[0mdata_to_encode\u001b[0m \u001b[0;34m=\u001b[0m \u001b[0mdata\u001b[0m\u001b[0;34m[\u001b[0m\u001b[0mcolumns\u001b[0m\u001b[0;34m]\u001b[0m\u001b[0;34m\u001b[0m\u001b[0;34m\u001b[0m\u001b[0m\n\u001b[0m\u001b[1;32m    165\u001b[0m \u001b[0;34m\u001b[0m\u001b[0m\n\u001b[1;32m    166\u001b[0m         \u001b[0;31m# validate prefixes and separator to avoid silently dropping cols\u001b[0m\u001b[0;34m\u001b[0m\u001b[0;34m\u001b[0m\u001b[0m\n",
            "\u001b[0;32m/usr/local/lib/python3.10/dist-packages/pandas/core/frame.py\u001b[0m in \u001b[0;36m__getitem__\u001b[0;34m(self, key)\u001b[0m\n\u001b[1;32m   3897\u001b[0m             \u001b[0;32mif\u001b[0m \u001b[0mis_iterator\u001b[0m\u001b[0;34m(\u001b[0m\u001b[0mkey\u001b[0m\u001b[0;34m)\u001b[0m\u001b[0;34m:\u001b[0m\u001b[0;34m\u001b[0m\u001b[0;34m\u001b[0m\u001b[0m\n\u001b[1;32m   3898\u001b[0m                 \u001b[0mkey\u001b[0m \u001b[0;34m=\u001b[0m \u001b[0mlist\u001b[0m\u001b[0;34m(\u001b[0m\u001b[0mkey\u001b[0m\u001b[0;34m)\u001b[0m\u001b[0;34m\u001b[0m\u001b[0;34m\u001b[0m\u001b[0m\n\u001b[0;32m-> 3899\u001b[0;31m             \u001b[0mindexer\u001b[0m \u001b[0;34m=\u001b[0m \u001b[0mself\u001b[0m\u001b[0;34m.\u001b[0m\u001b[0mcolumns\u001b[0m\u001b[0;34m.\u001b[0m\u001b[0m_get_indexer_strict\u001b[0m\u001b[0;34m(\u001b[0m\u001b[0mkey\u001b[0m\u001b[0;34m,\u001b[0m \u001b[0;34m\"columns\"\u001b[0m\u001b[0;34m)\u001b[0m\u001b[0;34m[\u001b[0m\u001b[0;36m1\u001b[0m\u001b[0;34m]\u001b[0m\u001b[0;34m\u001b[0m\u001b[0;34m\u001b[0m\u001b[0m\n\u001b[0m\u001b[1;32m   3900\u001b[0m \u001b[0;34m\u001b[0m\u001b[0m\n\u001b[1;32m   3901\u001b[0m         \u001b[0;31m# take() does not accept boolean indexers\u001b[0m\u001b[0;34m\u001b[0m\u001b[0;34m\u001b[0m\u001b[0m\n",
            "\u001b[0;32m/usr/local/lib/python3.10/dist-packages/pandas/core/indexes/base.py\u001b[0m in \u001b[0;36m_get_indexer_strict\u001b[0;34m(self, key, axis_name)\u001b[0m\n\u001b[1;32m   6113\u001b[0m             \u001b[0mkeyarr\u001b[0m\u001b[0;34m,\u001b[0m \u001b[0mindexer\u001b[0m\u001b[0;34m,\u001b[0m \u001b[0mnew_indexer\u001b[0m \u001b[0;34m=\u001b[0m \u001b[0mself\u001b[0m\u001b[0;34m.\u001b[0m\u001b[0m_reindex_non_unique\u001b[0m\u001b[0;34m(\u001b[0m\u001b[0mkeyarr\u001b[0m\u001b[0;34m)\u001b[0m\u001b[0;34m\u001b[0m\u001b[0;34m\u001b[0m\u001b[0m\n\u001b[1;32m   6114\u001b[0m \u001b[0;34m\u001b[0m\u001b[0m\n\u001b[0;32m-> 6115\u001b[0;31m         \u001b[0mself\u001b[0m\u001b[0;34m.\u001b[0m\u001b[0m_raise_if_missing\u001b[0m\u001b[0;34m(\u001b[0m\u001b[0mkeyarr\u001b[0m\u001b[0;34m,\u001b[0m \u001b[0mindexer\u001b[0m\u001b[0;34m,\u001b[0m \u001b[0maxis_name\u001b[0m\u001b[0;34m)\u001b[0m\u001b[0;34m\u001b[0m\u001b[0;34m\u001b[0m\u001b[0m\n\u001b[0m\u001b[1;32m   6116\u001b[0m \u001b[0;34m\u001b[0m\u001b[0m\n\u001b[1;32m   6117\u001b[0m         \u001b[0mkeyarr\u001b[0m \u001b[0;34m=\u001b[0m \u001b[0mself\u001b[0m\u001b[0;34m.\u001b[0m\u001b[0mtake\u001b[0m\u001b[0;34m(\u001b[0m\u001b[0mindexer\u001b[0m\u001b[0;34m)\u001b[0m\u001b[0;34m\u001b[0m\u001b[0;34m\u001b[0m\u001b[0m\n",
            "\u001b[0;32m/usr/local/lib/python3.10/dist-packages/pandas/core/indexes/base.py\u001b[0m in \u001b[0;36m_raise_if_missing\u001b[0;34m(self, key, indexer, axis_name)\u001b[0m\n\u001b[1;32m   6174\u001b[0m                 \u001b[0;32mif\u001b[0m \u001b[0muse_interval_msg\u001b[0m\u001b[0;34m:\u001b[0m\u001b[0;34m\u001b[0m\u001b[0;34m\u001b[0m\u001b[0m\n\u001b[1;32m   6175\u001b[0m                     \u001b[0mkey\u001b[0m \u001b[0;34m=\u001b[0m \u001b[0mlist\u001b[0m\u001b[0;34m(\u001b[0m\u001b[0mkey\u001b[0m\u001b[0;34m)\u001b[0m\u001b[0;34m\u001b[0m\u001b[0;34m\u001b[0m\u001b[0m\n\u001b[0;32m-> 6176\u001b[0;31m                 \u001b[0;32mraise\u001b[0m \u001b[0mKeyError\u001b[0m\u001b[0;34m(\u001b[0m\u001b[0;34mf\"None of [{key}] are in the [{axis_name}]\"\u001b[0m\u001b[0;34m)\u001b[0m\u001b[0;34m\u001b[0m\u001b[0;34m\u001b[0m\u001b[0m\n\u001b[0m\u001b[1;32m   6177\u001b[0m \u001b[0;34m\u001b[0m\u001b[0m\n\u001b[1;32m   6178\u001b[0m             \u001b[0mnot_found\u001b[0m \u001b[0;34m=\u001b[0m \u001b[0mlist\u001b[0m\u001b[0;34m(\u001b[0m\u001b[0mensure_index\u001b[0m\u001b[0;34m(\u001b[0m\u001b[0mkey\u001b[0m\u001b[0;34m)\u001b[0m\u001b[0;34m[\u001b[0m\u001b[0mmissing_mask\u001b[0m\u001b[0;34m.\u001b[0m\u001b[0mnonzero\u001b[0m\u001b[0;34m(\u001b[0m\u001b[0;34m)\u001b[0m\u001b[0;34m[\u001b[0m\u001b[0;36m0\u001b[0m\u001b[0;34m]\u001b[0m\u001b[0;34m]\u001b[0m\u001b[0;34m.\u001b[0m\u001b[0munique\u001b[0m\u001b[0;34m(\u001b[0m\u001b[0;34m)\u001b[0m\u001b[0;34m)\u001b[0m\u001b[0;34m\u001b[0m\u001b[0;34m\u001b[0m\u001b[0m\n",
            "\u001b[0;31mKeyError\u001b[0m: \"None of [Index(['src_ip', 'dst_ip', 'protocol'], dtype='object')] are in the [columns]\""
          ]
        }
      ]
    }
  ]
}